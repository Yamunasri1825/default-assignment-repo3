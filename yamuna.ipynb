{
  "cells": [
    {
      "cell_type": "code",
      "source": [
        "import pandas as pd"
      ],
      "metadata": {},
      "execution_count": null,
      "outputs": []
    },
    {
      "cell_type": "code",
      "source": [
        "# Install pandas\rimport pandas"
      ],
      "metadata": {},
      "execution_count": null,
      "outputs": []
    },
    {
      "cell_type": "code",
      "source": [
        "# First, import the required libraries\rimport pandas as pd\rimport matplotlib.pyplot as plt\r\r# Create a sample DataFrame (replace this with your actual data)\rdf = pd.DataFrame({\r    'A': [1, 2, 3, 4, 5],\r    'B': [2, 4, 6, 8, 10]\r})\r\r# Now plot the DataFrame\rplt.figure(figsize=(10, 6))\rdf.plot()\rplt.title(\"General plot of the DataFrame\")\rplt.tight_layout()\rplt.show()"
      ],
      "metadata": {},
      "execution_count": null,
      "outputs": []
    },
    {
      "cell_type": "code",
      "source": [
        "import matplotlib.pyplot as plt\r\r# Visualize the DataFrame\rplt.figure(figsize=(10, 6))\rdf.plot()\rplt.title(\"General plot of the DataFrame\")\rplt.tight_layout()\rplt.show()"
      ],
      "metadata": {},
      "execution_count": null,
      "outputs": []
    },
    {
      "cell_type": "code",
      "source": [
        "import pandas as pd\r\r# Creating a DataFrame\rmydataset = {\r  'cars': [\"BMW\", \"Volvo\", \"Ford\"],\r  'passings': [3, 7, 2]\r}\rmyvar = pd.DataFrame(mydataset)\rprint(myvar)"
      ],
      "metadata": {},
      "execution_count": 5,
      "outputs": []
    }
  ],
  "metadata": {
    "kernelspec": {
      "display_name": "Python 3",
      "language": "python",
      "name": "python3"
    }
  },
  "nbformat": 4,
  "nbformat_minor": 4
}