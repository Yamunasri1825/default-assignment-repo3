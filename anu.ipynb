{
  "cells": [
    {
      "cell_type": "code",
      "source": [
        "import pandas as pd\rimport numpy as np\r\r# Creating empty series\rs = pd.Series()\rprint(\"Empty Series:\")\rprint(s)\r\r# simple array\rdata = np.array(['g', 'e', 'e', 'k', 's'])\rser = pd.Series(data)\rprint(\"\\nSeries from array:\")\rprint(ser)"
      ],
      "metadata": {},
      "execution_count": null,
      "outputs": []
    },
    {
      "cell_type": "code",
      "source": [
        "import pandas as pd\rimport numpy as np\r\r# Creating empty series\rs = pd.Series()\rprint(\"Empty Series:\")\rprint(s)\r\r# simple array\rdata = np.array(['g', 'e', 'e', 'k', 's'])\rser = pd.Series(data)\rprint(\"\\nSeries from array:\")\rprint(ser)"
      ],
      "metadata": {},
      "execution_count": 2,
      "outputs": []
    }
  ],
  "metadata": {
    "kernelspec": {
      "display_name": "Python 3",
      "language": "python",
      "name": "python3"
    }
  },
  "nbformat": 4,
  "nbformat_minor": 4
}